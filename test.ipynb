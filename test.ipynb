{
 "cells": [
  {
   "cell_type": "code",
   "execution_count": 3,
   "id": "50b6a515-b4c1-44f6-9e75-7cac7c1d8eb0",
   "metadata": {},
   "outputs": [],
   "source": [
    "import pandas as pd\n",
    "\n",
    "dataset = pd.read_excel(\"./Datasets/cleaned_scaled.xlsx\")\n",
    "y = dataset[\"Churn Value\"]"
   ]
  },
  {
   "cell_type": "code",
   "execution_count": 2,
   "id": "228c829d-eee7-41b3-b4fa-f879d8759dbd",
   "metadata": {},
   "outputs": [
    {
     "name": "stdout",
     "output_type": "stream",
     "text": [
      "   Gender  Senior Citizen  Partner  Dependents  Tenure Months  Multiple Lines  \\\n",
      "0       1               0        0           0      -1.236724               0   \n",
      "1       0               0        0           1      -1.236724               0   \n",
      "2       0               0        0           1      -0.992402               1   \n",
      "3       0               0        1           1      -0.177995               1   \n",
      "4       1               0        0           1       0.677133               1   \n",
      "\n",
      "   Online Security  Online Backup  Device Protection  Tech Support  ...  \\\n",
      "0                1              1                  0             0  ...   \n",
      "1                0              0                  0             0  ...   \n",
      "2                0              0                  1             0  ...   \n",
      "3                0              0                  1             1  ...   \n",
      "4                0              1                  1             0  ...   \n",
      "\n",
      "   Fiber-Optics_Service  DSL_Service  month-to-month_contract  \\\n",
      "0                     0            1                        1   \n",
      "1                     1            0                        1   \n",
      "2                     1            0                        1   \n",
      "3                     1            0                        1   \n",
      "4                     1            0                        1   \n",
      "\n",
      "   one-year_contract  two-year_contract  bank-transfer-auto_paymentmethod  \\\n",
      "0                  0                  0                                 0   \n",
      "1                  0                  0                                 0   \n",
      "2                  0                  0                                 0   \n",
      "3                  0                  0                                 0   \n",
      "4                  0                  0                                 1   \n",
      "\n",
      "   credit-card-auto_paymentmethod  electronic-check_paymentmethod  \\\n",
      "0                               0                               0   \n",
      "1                               0                               1   \n",
      "2                               0                               1   \n",
      "3                               0                               1   \n",
      "4                               0                               0   \n",
      "\n",
      "   mailed-check_paymentmethod  Churn Value  \n",
      "0                           1            1  \n",
      "1                           0            1  \n",
      "2                           0            1  \n",
      "3                           0            1  \n",
      "4                           0            1  \n",
      "\n",
      "[5 rows x 26 columns]\n"
     ]
    }
   ],
   "source": [
    "print(dataset.head())\n"
   ]
  },
  {
   "cell_type": "code",
   "execution_count": 7,
   "id": "0d24a926-73bd-49c0-8fc7-1a11556d4ad1",
   "metadata": {
    "scrolled": true
   },
   "outputs": [],
   "source": [
    "from sklearn.linear_model import LogisticRegression\n",
    "\n",
    "model = LogisticRegression()\n",
    "\n",
    "features = dataset[[\"Gender\" ,\"Senior Citizen\", \"Partner\", \"Dependents\", \"Tenure Months\", \"Multiple Lines\", \"Online Security\", \"Online Backup\", \"Device Protection\", \"Tech Support\", \"Streaming TV\", \"Streaming Movies\", \"Paperless Billing\", \"Monthly Charges\", \"Total Charges\", \"CLTV\" ,\"DSL_Service\" , \"month-to-month_contract\" , \"one-year_contract\", \"two-year_contract\", \"bank-transfer-auto_paymentmethod\", \"credit-card-auto_paymentmethod\", \"electronic-check_paymentmethod\", \"mailed-check_paymentmethod\"]]\n",
    "label = y"
   ]
  },
  {
   "cell_type": "code",
   "execution_count": 8,
   "id": "a513d380-27e9-43a0-ab0f-f9196c31b34b",
   "metadata": {},
   "outputs": [
    {
     "name": "stdout",
     "output_type": "stream",
     "text": [
      "0.8146919431279621\n",
      "0.6902286902286903\n",
      "0.578397212543554\n",
      "0.6293838862559241\n"
     ]
    }
   ],
   "source": [
    "from sklearn.model_selection import train_test_split\n",
    "\n",
    "X_train, X_test, y_train, y_test = train_test_split(features, label, train_size=0.7, test_size=0.3, random_state=2)\n",
    "\n",
    "model.fit(X_train, y_train)\n",
    "\n",
    "predicted = model.predict(X_test)\n",
    "\n",
    "from sklearn.metrics import accuracy_score, f1_score, precision_score, recall_score\n",
    "print(accuracy_score(y_test, predicted))\n",
    "print(precision_score(y_test, predicted))\n",
    "print(recall_score(y_test, predicted))\n",
    "print(f1_score(y_test, predicted))"
   ]
  }
 ],
 "metadata": {
  "kernelspec": {
   "display_name": "Python 3 (ipykernel)",
   "language": "python",
   "name": "python3"
  },
  "language_info": {
   "codemirror_mode": {
    "name": "ipython",
    "version": 3
   },
   "file_extension": ".py",
   "mimetype": "text/x-python",
   "name": "python",
   "nbconvert_exporter": "python",
   "pygments_lexer": "ipython3",
   "version": "3.12.7"
  }
 },
 "nbformat": 4,
 "nbformat_minor": 5
}
