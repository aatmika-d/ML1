{
 "cells": [
  {
   "cell_type": "code",
   "execution_count": 1,
   "id": "7f42cee3-a607-4d1d-83b2-2d90e3c4bb35",
   "metadata": {},
   "outputs": [],
   "source": [
    "import pandas as pd\n",
    "\n",
    "X_original = pd.read_excel(\"./Datasets/Filtered_features.xlsx\")\n",
    "X_pca = pd.read_excel(\"./Datasets/PCA_features.xlsx\")"
   ]
  },
  {
   "cell_type": "code",
   "execution_count": 2,
   "id": "51893358-8c12-475e-8043-82f896cabd16",
   "metadata": {},
   "outputs": [],
   "source": [
    "y_original = X_original[\"Churn Value\"]\n",
    "y_pca = X_pca[\"Churn Value\"]\n",
    "\n",
    "features_original = X_original.drop(columns=[\"Churn Value\"])\n",
    "features_pca = X_pca.drop(columns=[\"Churn Value\"])"
   ]
  },
  {
   "cell_type": "code",
   "execution_count": 3,
   "id": "1612ce63-e23a-46f8-85fa-b4d65408d414",
   "metadata": {},
   "outputs": [],
   "source": [
    "from sklearn.model_selection import train_test_split\n",
    "\n",
    "X_train_original, X_test_original, y_train_original, y_test_original = train_test_split(features_original, y_original, test_size=0.33, random_state=2)\n",
    "\n",
    "X_train_pca, X_test_pca, y_train_pca, y_test_pca = train_test_split(features_pca, y_pca, test_size=0.33, random_state=2)"
   ]
  },
  {
   "cell_type": "code",
   "execution_count": 4,
   "id": "4a2947a5-7b9f-42e9-93c0-7381eee3555d",
   "metadata": {},
   "outputs": [],
   "source": [
    "from sklearn.tree import DecisionTreeClassifier\n",
    "\n",
    "dt_original = DecisionTreeClassifier(random_state=2)\n",
    "dt_original.fit(X_train_original, y_train_original)\n",
    "original_predicted = dt_original.predict(X_test_original)\n",
    "\n",
    "dt_pca = DecisionTreeClassifier(random_state=2)\n",
    "dt_pca.fit(X_train_pca, y_train_pca)\n",
    "pca_predicted = dt_pca.predict(X_test_pca)"
   ]
  },
  {
   "cell_type": "code",
   "execution_count": 5,
   "id": "2cc104d4-834d-4e2b-a43b-b706b5e83af4",
   "metadata": {},
   "outputs": [
    {
     "name": "stdout",
     "output_type": "stream",
     "text": [
      "Accuracy Score (with original features): \n",
      "0.7371822490305903 \n",
      "\n",
      "Precision Score (with original features): \n",
      "0.5168350168350169 \n",
      "\n",
      "Recall Score (with original features): \n",
      "0.4873015873015873 \n",
      "\n",
      "F1 Score (with original features): \n",
      "0.5016339869281046 \n",
      " \n",
      "\n",
      "Accuracy Score (with pca features): \n",
      "0.7160706591986212 \n",
      "\n",
      "Precision Score (with pca features): \n",
      "0.4767255216693419 \n",
      "\n",
      "Recall Score (with pca features): \n",
      "0.4714285714285714 \n",
      "\n",
      "F1 Score (with pca features): \n",
      "0.47406225059856344 \n",
      "\n"
     ]
    }
   ],
   "source": [
    "from sklearn.metrics import accuracy_score, precision_score, recall_score, f1_score\n",
    "\n",
    "# for original features\n",
    "print(\"Accuracy Score (with original features): \")\n",
    "print(accuracy_score(y_test_original, original_predicted), \"\\n\")\n",
    "print(\"Precision Score (with original features): \")\n",
    "print(precision_score(y_test_original, original_predicted), \"\\n\")\n",
    "print(\"Recall Score (with original features): \")\n",
    "print(recall_score(y_test_original, original_predicted), \"\\n\")\n",
    "print(\"F1 Score (with original features): \")\n",
    "print(f1_score(y_test_original, original_predicted), \"\\n\", \"\\n\")\n",
    "\n",
    "# for pca features\n",
    "print(\"Accuracy Score (with pca features): \")\n",
    "print(accuracy_score(y_test_pca, pca_predicted), \"\\n\")\n",
    "print(\"Precision Score (with pca features): \")\n",
    "print(precision_score(y_test_pca, pca_predicted), \"\\n\")\n",
    "print(\"Recall Score (with pca features): \")\n",
    "print(recall_score(y_test_pca, pca_predicted), \"\\n\")\n",
    "print(\"F1 Score (with pca features): \")\n",
    "print(f1_score(y_test_pca, pca_predicted), \"\\n\")"
   ]
  },
  {
   "cell_type": "code",
   "execution_count": 6,
   "id": "fbe5215a-49f2-47b3-8614-86404fbfab44",
   "metadata": {},
   "outputs": [
    {
     "name": "stdout",
     "output_type": "stream",
     "text": [
      "Accuracy Score (with original features): \n",
      "0.7371822490305903 \n",
      "\n",
      "Precision Score (with original features): \n",
      "0.5166112956810631 \n",
      "\n",
      "Recall Score (with original features): \n",
      "0.4936507936507937 \n",
      "\n",
      "F1 Score (with original features): \n",
      "0.5048701298701299 \n",
      " \n",
      "\n"
     ]
    }
   ],
   "source": [
    "new_original_features_train = X_train_original[['Partner', 'Dependents', 'Tech Support', 'Paperless Billing', 'Monthly Charges', 'Total Charges', 'DSL_Service', 'month-to-month_contract', 'one-year_contract', 'two-year_contract', 'bank-transfer-auto_paymentmethod', 'credit-card-auto_paymentmethod', 'electronic-check_paymentmethod']]\n",
    "new_original_features_test = X_test_original[['Partner', 'Dependents', 'Tech Support', 'Paperless Billing', 'Monthly Charges', 'Total Charges', 'DSL_Service', 'month-to-month_contract', 'one-year_contract', 'two-year_contract', 'bank-transfer-auto_paymentmethod', 'credit-card-auto_paymentmethod', 'electronic-check_paymentmethod']]\n",
    "dt_original.fit(new_original_features_train, y_train_original)\n",
    "original_predicted = dt_original.predict(new_original_features_test)\n",
    "# for original features\n",
    "print(\"Accuracy Score (with original features): \")\n",
    "print(accuracy_score(y_test_original, original_predicted), \"\\n\")\n",
    "print(\"Precision Score (with original features): \")\n",
    "print(precision_score(y_test_original, original_predicted), \"\\n\")\n",
    "print(\"Recall Score (with original features): \")\n",
    "print(recall_score(y_test_original, original_predicted), \"\\n\")\n",
    "print(\"F1 Score (with original features): \")\n",
    "print(f1_score(y_test_original, original_predicted), \"\\n\", \"\\n\")"
   ]
  },
  {
   "cell_type": "code",
   "execution_count": null,
   "id": "63985773-5771-46d8-bb86-71bcfa5f1cd8",
   "metadata": {},
   "outputs": [],
   "source": []
  }
 ],
 "metadata": {
  "kernelspec": {
   "display_name": "Python 3 (ipykernel)",
   "language": "python",
   "name": "python3"
  },
  "language_info": {
   "codemirror_mode": {
    "name": "ipython",
    "version": 3
   },
   "file_extension": ".py",
   "mimetype": "text/x-python",
   "name": "python",
   "nbconvert_exporter": "python",
   "pygments_lexer": "ipython3",
   "version": "3.12.7"
  }
 },
 "nbformat": 4,
 "nbformat_minor": 5
}
