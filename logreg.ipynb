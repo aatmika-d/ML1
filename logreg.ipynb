{
 "cells": [
  {
   "cell_type": "code",
   "execution_count": 11,
   "id": "8dc6eaa6-6c4f-4dc8-a776-7ae7bbc20b46",
   "metadata": {},
   "outputs": [],
   "source": [
    "import pandas as pd\n",
    "# dataset with original features\n",
    "X_original = pd.read_excel(\"./Datasets/Filtered_features.xlsx\")\n",
    "# dataset with features of reduced Dimensionality\n",
    "X_pca = pd.read_excel(\"./Datasets/PCA_features.xlsx\")\n"
   ]
  },
  {
   "cell_type": "code",
   "execution_count": 12,
   "id": "66c9e2ce-7182-492b-841a-5a8e6c5c13eb",
   "metadata": {},
   "outputs": [],
   "source": [
    "features_original = X_original.drop(columns=[\"Churn Value\"])\n",
    "\n",
    "features_pca = X_pca\n",
    "\n",
    "y_original = X_original[\"Churn Value\"]\n",
    "y_pca = X_original[\"Churn Value\"]\n",
    "\n"
   ]
  },
  {
   "cell_type": "code",
   "execution_count": 13,
   "id": "e78ef4d5-9382-4918-9c8a-62710541dcae",
   "metadata": {},
   "outputs": [],
   "source": [
    "from sklearn.model_selection import train_test_split\n",
    "# for original features\n",
    "X_train_original, X_test_original, y_train_original, y_test_original = train_test_split(features_original, y_original, test_size=0.33, random_state=2)\n",
    "# for pca features\n",
    "X_train_pca, X_test_pca, y_train_pca, y_test_pca = train_test_split(features_pca, y_pca, test_size=0.33, random_state=2)"
   ]
  },
  {
   "cell_type": "code",
   "execution_count": 14,
   "id": "6af0d067-e16a-4512-b42f-b99147b49a01",
   "metadata": {},
   "outputs": [],
   "source": [
    "from sklearn.linear_model import LogisticRegression\n",
    "\n",
    "# model for original features\n",
    "model_original = LogisticRegression(max_iter=1000)\n",
    "model_original.fit(X_train_original, y_train_original)\n",
    "original_predicted = model_original.predict(X_test_original)\n",
    "\n",
    "# model for pca features\n",
    "model_pca = LogisticRegression(max_iter=1000)\n",
    "model_pca.fit(X_train_pca, y_train_pca)\n",
    "pca_predicted = model_pca.predict(X_test_pca)\n"
   ]
  },
  {
   "cell_type": "code",
   "execution_count": 15,
   "id": "b4ba0b9b-2e79-4b4f-ada1-e94784522f1d",
   "metadata": {},
   "outputs": [
    {
     "name": "stdout",
     "output_type": "stream",
     "text": [
      "Accuracy Score (with original features): \n",
      "0.8018095648427402 \n",
      "\n",
      "Precision Score (with original features): \n",
      "0.6673228346456693 \n",
      "\n",
      "Recall Score (with original features): \n",
      "0.5380952380952381 \n",
      "\n",
      "F1 Score (with original features): \n",
      "0.5957820738137083 \n",
      " \n",
      "\n",
      "Accuracy Score (with pca features): \n",
      "1.0 \n",
      "\n",
      "Precision Score (with pca features): \n",
      "1.0 \n",
      "\n",
      "Recall Score (with pca features): \n",
      "1.0 \n",
      "\n",
      "F1 Score (with pca features): \n",
      "1.0 \n",
      "\n"
     ]
    }
   ],
   "source": [
    "from sklearn.metrics import accuracy_score, precision_score, recall_score, f1_score\n",
    "\n",
    "# for original features\n",
    "print(\"Accuracy Score (with original features): \")\n",
    "print(accuracy_score(y_test_original, original_predicted), \"\\n\")\n",
    "print(\"Precision Score (with original features): \")\n",
    "print(precision_score(y_test_original, original_predicted), \"\\n\")\n",
    "print(\"Recall Score (with original features): \")\n",
    "print(recall_score(y_test_original, original_predicted), \"\\n\")\n",
    "print(\"F1 Score (with original features): \")\n",
    "print(f1_score(y_test_original, original_predicted), \"\\n\", \"\\n\")\n",
    "\n",
    "# for pca features\n",
    "print(\"Accuracy Score (with pca features): \")\n",
    "print(accuracy_score(y_test_pca, pca_predicted), \"\\n\")\n",
    "print(\"Precision Score (with pca features): \")\n",
    "print(precision_score(y_test_pca, pca_predicted), \"\\n\")\n",
    "print(\"Recall Score (with pca features): \")\n",
    "print(recall_score(y_test_pca, pca_predicted), \"\\n\")\n",
    "print(\"F1 Score (with pca features): \")\n",
    "print(f1_score(y_test_pca, pca_predicted), \"\\n\")"
   ]
  },
  {
   "cell_type": "code",
   "execution_count": 16,
   "id": "6228773c-2b67-4f84-9d91-c94b613d9b1a",
   "metadata": {},
   "outputs": [
    {
     "name": "stdout",
     "output_type": "stream",
     "text": [
      "[[1691    0]\n",
      " [   0  630]]\n",
      "[[1522  169]\n",
      " [ 291  339]]\n"
     ]
    }
   ],
   "source": [
    "from sklearn.metrics import confusion_matrix\n",
    "print(confusion_matrix(y_test_pca, pca_predicted))\n",
    "print(confusion_matrix(y_test_original, original_predicted))"
   ]
  },
  {
   "cell_type": "code",
   "execution_count": 18,
   "id": "722fa8f2-ba0d-401c-8813-890b3cd681f3",
   "metadata": {},
   "outputs": [
    {
     "name": "stdout",
     "output_type": "stream",
     "text": [
      "0.8048255062473072\n",
      "0.6759443339960238\n",
      "0.5396825396825397\n",
      "0.6001765225066196\n"
     ]
    }
   ],
   "source": [
    "x = X_train_original[['Senior Citizen', 'Partner', 'Dependents', 'Online Security', 'Online Backup', 'Device Protection', 'Tech Support', 'Streaming TV', 'Paperless Billing', 'Monthly Charges', 'Total Charges', 'DSL_Service', 'month-to-month_contract', 'one-year_contract', 'two-year_contract', 'credit-card-auto_paymentmethod', 'electronic-check_paymentmethod']]\n",
    "x_test = X_test_original[['Senior Citizen', 'Partner', 'Dependents', 'Online Security', 'Online Backup', 'Device Protection', 'Tech Support', 'Streaming TV', 'Paperless Billing', 'Monthly Charges', 'Total Charges', 'DSL_Service', 'month-to-month_contract', 'one-year_contract', 'two-year_contract', 'credit-card-auto_paymentmethod', 'electronic-check_paymentmethod']]\n",
    "\n",
    "new_model = LogisticRegression(max_iter=1000)\n",
    "new_model.fit(x, y_train_original)\n",
    "new_predicted = new_model.predict(x_test)\n",
    "\n",
    "print(accuracy_score(y_test_original, new_predicted))\n",
    "print(precision_score(y_test_original, new_predicted))\n",
    "print(recall_score(y_test_original, new_predicted))\n",
    "print(f1_score(y_test_original, new_predicted))\n"
   ]
  },
  {
   "cell_type": "code",
   "execution_count": 21,
   "id": "8a4d24e7-0035-442f-8421-b36070aca9e5",
   "metadata": {},
   "outputs": [],
   "source": [
    "import pickle\n",
    "\n",
    "# Save the trained logistic regression model\n",
    "with open('logreg_model.pkl', 'wb') as f:\n",
    "    pickle.dump(new_model, f)\n"
   ]
  }
 ],
 "metadata": {
  "kernelspec": {
   "display_name": "Python 3 (ipykernel)",
   "language": "python",
   "name": "python3"
  },
  "language_info": {
   "codemirror_mode": {
    "name": "ipython",
    "version": 3
   },
   "file_extension": ".py",
   "mimetype": "text/x-python",
   "name": "python",
   "nbconvert_exporter": "python",
   "pygments_lexer": "ipython3",
   "version": "3.12.7"
  }
 },
 "nbformat": 4,
 "nbformat_minor": 5
}
